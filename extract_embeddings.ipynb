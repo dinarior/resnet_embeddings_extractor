{
 "cells": [
  {
   "cell_type": "markdown",
   "metadata": {},
   "source": [
    "### Embeddings Extractor"
   ]
  },
  {
   "cell_type": "code",
   "execution_count": 24,
   "metadata": {},
   "outputs": [],
   "source": [
    "import numpy as np\n",
    "from torchvision.datasets import CIFAR100\n",
    "from torchvision import transforms\n",
    "import torch\n",
    "import torch.nn as nn\n",
    "from torch.utils.data import Dataset, DataLoader\n",
    "from tqdm import tqdm"
   ]
  },
  {
   "cell_type": "markdown",
   "metadata": {},
   "source": [
    "You can swap the model for your prefered pretrained model.\n",
    "I am using [SWAV](https://github.com/facebookresearch/swav), [paper](https://arxiv.org/pdf/2006.09882.pdf).\n",
    "\n",
    "Which is unsupervised."
   ]
  },
  {
   "cell_type": "code",
   "execution_count": 25,
   "metadata": {
    "tags": []
   },
   "outputs": [
    {
     "name": "stderr",
     "output_type": "stream",
     "text": [
      "Using cache found in /home/dinari/.cache/torch/hub/facebookresearch_swav_master\n"
     ]
    }
   ],
   "source": [
    "model = torch.hub.load('facebookresearch/swav', 'resnet50')\n",
    "modules=list(model.children())[:-1]\n",
    "model=nn.Sequential(*modules)\n",
    "for p in model.parameters():\n",
    "    p.requires_grad = False\n",
    "model.cuda();"
   ]
  },
  {
   "cell_type": "code",
   "execution_count": 26,
   "metadata": {
    "scrolled": true,
    "tags": []
   },
   "outputs": [
    {
     "name": "stdout",
     "output_type": "stream",
     "text": [
      "Files already downloaded and verified\n"
     ]
    }
   ],
   "source": [
    "tr_normalize = transforms.Normalize(\n",
    "        mean=[0.485, 0.456, 0.406], std=[0.228, 0.224, 0.225])\n",
    "transforms = transforms.Compose([\n",
    "            transforms.Resize(256),\n",
    "            transforms.CenterCrop(224),\n",
    "            transforms.ToTensor(),\n",
    "            tr_normalize])\n",
    "dataset = CIFAR100('../data/cifar100/',train=True, download=True, transform=transforms)"
   ]
  },
  {
   "cell_type": "code",
   "execution_count": 1,
   "metadata": {},
   "outputs": [],
   "source": [
    "BATCH_SIZE = 8"
   ]
  },
  {
   "cell_type": "code",
   "execution_count": 14,
   "metadata": {},
   "outputs": [],
   "source": [
    "loader = DataLoader(dataset=dataset, batch_size=BATCH_SIZE, shuffle=False, num_workers=1)"
   ]
  },
  {
   "cell_type": "code",
   "execution_count": 15,
   "metadata": {
    "tags": []
   },
   "outputs": [
    {
     "name": "stderr",
     "output_type": "stream",
     "text": [
      "100%|██████████| 6250/6250 [04:35<00:00, 22.72it/s]\n"
     ]
    }
   ],
   "source": [
    "all_labels = []\n",
    "all_embeddings = []\n",
    "torch.cuda.empty_cache()\n",
    "model.eval()\n",
    "for data,labels in tqdm(loader):\n",
    "    all_labels += labels.numpy().tolist()\n",
    "    data = data.cuda()\n",
    "    embeddings = model(data.cuda())\n",
    "    all_embeddings.append(np.reshape(embeddings.detach().cpu().numpy(),(BATCH_SIZE,-1)))\n",
    "all_embeddings = np.vstack(all_embeddings)"
   ]
  },
  {
   "cell_type": "code",
   "execution_count": null,
   "metadata": {},
   "outputs": [],
   "source": [
    "DATA_PATH = '../data/cifar100/cifar100_embeddings.npy'\n",
    "LABELS_PATH = '../data/cifar100/cifar100_labels.npy'"
   ]
  },
  {
   "cell_type": "code",
   "execution_count": 17,
   "metadata": {},
   "outputs": [],
   "source": [
    "np.save(DATA_PATH,all_embeddings)\n",
    "np.save(LABELS_PATH,np.array(all_labels))"
   ]
  }
 ],
 "metadata": {
  "kernelspec": {
   "display_name": "Python 3.6.8 64-bit ('py36': conda)",
   "language": "python",
   "name": "python36864bitpy36conda212faae6fa994ac59e92f2638f97a4f6"
  },
  "language_info": {
   "codemirror_mode": {
    "name": "ipython",
    "version": 3
   },
   "file_extension": ".py",
   "mimetype": "text/x-python",
   "name": "python",
   "nbconvert_exporter": "python",
   "pygments_lexer": "ipython3",
   "version": "3.6.8"
  }
 },
 "nbformat": 4,
 "nbformat_minor": 2
}
